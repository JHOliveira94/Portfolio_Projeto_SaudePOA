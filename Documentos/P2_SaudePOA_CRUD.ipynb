{
 "cells": [
  {
   "cell_type": "markdown",
   "metadata": {},
   "source": [
    "# **P2 Consultas médicas especializadas de Porto Alegre - RS**"
   ]
  },
  {
   "cell_type": "markdown",
   "metadata": {},
   "source": [
    "## **Projeto**\n",
    "\n",
    "**AUTOR:** José Henrique de Oliveira<br>\n",
    "**LINKEDIN:** [jholiveira94](https://www.linkedin.com/in/jholiveira94/)<br>\n",
    "**GITHUB:** [JHOliveira94](https://github.com/JHOliveira94)\n",
    "\n",
    "### **Objetivo**\n",
    "Com este projeto, tem-se como objetivo elaborar e apresentar operações de CRUD (Create, Read, Update, Delete) com Python em banco de dados MySQL.\\\n",
    "Para tal, algumas etapas serão necessárias e, com elas em mente, assim o projeto será dividido:\n",
    "- **P1:** ETL (Extract, Transform, Load)\n",
    "    - Nessa etapa, os dados serão carregados, tradados e inseridos em um banco de dados MySQL usando Python.\n",
    "    - **Documento:** P1_SaudePOA_ETL.ipynb\n",
    "- **P2:** CRUD (Create, Read, Update, Delete)\n",
    "    - Nessa etapa, serão realizadas as operações de CRUD no banco de dados MySQL usando Python.\n",
    "\n",
    "### **Sobre este notebook**\n",
    "Com o intuito de facilitar ao usuário, aqui está presente apenas o código que evoca as operações CRUD.<br>\n",
    "As operações estão definidas no documento **P2_fucoes_database.py**."
   ]
  },
  {
   "cell_type": "markdown",
   "metadata": {},
   "source": [
    "## **Como utilizar**\n",
    "Rode a célula de código para exibir a tabela trabalhada e as opções de operações disponíveis.<br>\n",
    "Opções iniciais:\n",
    "- 1 - Inserir um registro\n",
    "- 2 - Ler os registros\n",
    "- 3 - Atualizar um registro\n",
    "- 4 - Deletar um registro\n",
    "- 5 - Encerrar operações\n",
    "\n",
    "Ao selecionar a operação desejada, o código guiará o usuário nos detalhes necessários.<br>\n",
    "Após a realização da operação, poderá ser apresentada:\n",
    "- Uma mensagem de sucesso, caso ocorra tudo certo.\n",
    "    - Exemplo: **-> Registro atualizado com sucesso!**\n",
    "- Uma mensagem de erro, caso alguma etapa não possa ser realizada.\n",
    "\n",
    "Concluída cada operação, será apresentada a seguinte mensagem de encerramento: **Encerrando operações CRUD.**<br>\n",
    "Caso deseje realizar mais procedimentos, rode a célula de código novamente."
   ]
  },
  {
   "cell_type": "code",
   "execution_count": null,
   "metadata": {},
   "outputs": [],
   "source": [
    "# Célula de código\n",
    "\n",
    "from P2_funcoes_database import operacoes_crud\n",
    "operacoes_crud()"
   ]
  },
  {
   "cell_type": "markdown",
   "metadata": {},
   "source": [
    "## **Conclusões**\n",
    "Sobre o objetivo da P2 do projeto:\n",
    "- Esse notebook está funcional, evocando as funções e guiando o usuário com sucesso\n",
    "- As operações estão funcionais, conectando ao banco de dados re concretizando o CRUD.\n",
    "<br>\n",
    "<br>\n",
    "\n",
    "Melhorias futuras:\n",
    "- Personalização de queries: As funções cumprem seus papéis básicos, porém não permitem definir queries específicas.\n",
    "    - Variáveis que permitam a inserção de queries.\n",
    "- Código CRUD: Mesmo que funcional, esse notebook depende da plataforma utilizada para boa experiência do usuário.\n",
    "    - Construção de uma CLI (Command Line Interface) para utilização mais padronizada."
   ]
  }
 ],
 "metadata": {
  "kernelspec": {
   "display_name": "Python 3",
   "language": "python",
   "name": "python3"
  },
  "language_info": {
   "codemirror_mode": {
    "name": "ipython",
    "version": 3
   },
   "file_extension": ".py",
   "mimetype": "text/x-python",
   "name": "python",
   "nbconvert_exporter": "python",
   "pygments_lexer": "ipython3",
   "version": "3.13.0"
  }
 },
 "nbformat": 4,
 "nbformat_minor": 2
}
