{
 "cells": [
  {
   "cell_type": "markdown",
   "metadata": {},
   "source": [
    "# **P1 Consultas médicas especializadas de Porto Alegre - RS**"
   ]
  },
  {
   "cell_type": "markdown",
   "metadata": {},
   "source": [
    "## **Projeto**\n",
    "\n",
    "**AUTOR:** José Henrique de Oliveira<br>\n",
    "**LINKEDIN:** [jholiveira94](https://www.linkedin.com/in/jholiveira94/)<br>\n",
    "**GITHUB:** [JHOliveira94](https://github.com/JHOliveira94)\n",
    "\n",
    "### **Objetivo**\n",
    "Com este projeto, tem-se como objetivo elaborar e apresentar operações de CRUD (Create, Read, Update, Delete) com Python em banco de dados MySQL.\\\n",
    "Para tal, algumas etapas serão necessárias e, com elas em mente, assim o projeto será dividido:\n",
    "- **P1:** ETL (Extract, Transform, Load)\n",
    "    - Nessa etapa, os dados serão carregados, tradados e inseridos em um banco de dados MySQL usando Python.\n",
    "- **P2:** CRUD (Create, Read, Update, Delete)\n",
    "    - Nessa etapa, serão realizadas as operações de CRUD no banco de dados MySQL usando Python.\n",
    "    - **Documento:** P2_SaudePOA_CRUD.ipynb"
   ]
  },
  {
   "cell_type": "markdown",
   "metadata": {},
   "source": [
    "## **Sobre o conjunto de dados**\n",
    "\n",
    "**DADOS ORIGINAIS:**\n",
    "- https://dadosabertos.poa.br/dataset/gercon-gerenciamento-de-consultas\n",
    "\n",
    "**ARQUIVOS:**\n",
    "- Solicitação de consultas especializadas 2024 (.csv)\n",
    "- Dicionário de Dados (.pdf)\n",
    "\n",
    "**ACESSO EM:** 24/01/2025\n",
    "\n",
    "Segundo o **Dicionário de Dados**:\n",
    "\n",
    "**Identificação e Datas**\\\n",
    "\tIDSOLICITACAO → Identificação única da solicitação.\\\n",
    "\tDATAHORA_SOLICITACAO → Data e hora da solicitação.\\\n",
    "\tDATAHORA_CONSULTA → Data e hora do agendamento da consulta (se houver).\n",
    "\n",
    "**Status da Solicitação**\\\n",
    "\tSITUACAOSOLICITACAO → Situação da solicitação (ex.: Solicitada, Cancelada, Realizada).\\\n",
    "\tSITUACAOAGENDA → Status da agenda (ex.: Agendada, Confirmada, Cancelada).\n",
    "\n",
    "**Informações sobre Regulação e Prioridade**\\\n",
    "\tCORREGULADOR → Prioridade atribuída pelo regulador (Vermelho, Laranja, Amarelo, Verde, Azul).\\\n",
    "\tSTATUSREGIONALIZAÇÃO → Indica se há regionalização cadastrada para a especialidade e município.\\\n",
    "\tCENTRALREGULACAO → Central de regulação responsável pela solicitação.\\\n",
    "\tCENTRALREGULACAOORIGEM → Central de regulação original da solicitação.\n",
    "\n",
    "**Tempo de Espera e Atendimento**\\\n",
    "\tDIASFILAESPERA → Dias de espera entre solicitação e agendamento.\n",
    "\n",
    "**Informações sobre a Especialidade**\\\n",
    "\tESPECIALIDADE → Especialidade médica específica (ex.: Cardiologia Pediátrica, Cirurgia Plástica).\\\n",
    "\tESPECIALIDADEMAE → Categoria geral da especialidade (ex.: Cardiologia, Cirurgia).\n",
    "\n",
    "**Informações do Paciente**\\\n",
    "\tIDPACIENTE → Identificação do paciente.\\\n",
    "\tMUNICIPIO_RESIDENCIA → Município de residência do paciente.\\\n",
    "\tIDADE → Idade do paciente.\\\n",
    "\tCID → Código da Classificação Internacional de Doenças (CID-10).\n",
    "\n",
    "**Unidade Solicitante**\\\n",
    "\tCNES_SOLICITANTE → Código do estabelecimento solicitante no Cadastro Nacional de Estabelecimentos de Saúde (CNES).\\\n",
    "\tUNIDADESOLICITANTE → Nome da unidade solicitante.\\\n",
    "\tTIPOUNIDADE → Tipo da unidade solicitante (ex.: Hospital, UBS).\\\n",
    "\tMUNICIPIOSOLICITANTE → Município da unidade solicitante.\\\n",
    "\tCOORDENADORIASOLICITANTE → Coordenadoria de saúde à qual a unidade solicitante está vinculada.\\\n",
    "\tREGIAOSAUDESOLICITANTE → Região de saúde da unidade solicitante.\n",
    "\n",
    "**Unidade Executante (se houver agendamento)**\\\n",
    "\tCNESEXECUTANTE → Código do estabelecimento executante no CNES.\\\n",
    "\tUNIDADEEXECUTANTE → Nome da unidade executante.\\\n",
    "\tMUNICIPIO_EXECUTANTE → Município da unidade executante.\n",
    "\n",
    "**Outras Informações**\\\n",
    "\tCOMPLEXIDADE → Classificação do atendimento (Alta ou Média Complexidade).\\\n",
    "\tTIPOCONSULTA → Indica se é primeira consulta ou retorno.\\\n",
    "\tPOSSUIUNIDADEINDICADA → Indica se a solicitação tem uma unidade específica designada para atendimento."
   ]
  },
  {
   "cell_type": "markdown",
   "metadata": {},
   "source": [
    "## **1. Preparações**"
   ]
  },
  {
   "cell_type": "code",
   "execution_count": 33,
   "metadata": {},
   "outputs": [
    {
     "name": "stdout",
     "output_type": "stream",
     "text": [
      "Requirement already satisfied: sqlalchemy in c:\\users\\josé henrique\\appdata\\local\\programs\\python\\python313\\lib\\site-packages (2.0.38)\n",
      "Requirement already satisfied: mysql-connector-python in c:\\users\\josé henrique\\appdata\\local\\programs\\python\\python313\\lib\\site-packages (9.2.0)\n",
      "Requirement already satisfied: greenlet!=0.4.17 in c:\\users\\josé henrique\\appdata\\local\\programs\\python\\python313\\lib\\site-packages (from sqlalchemy) (3.1.1)\n",
      "Requirement already satisfied: typing-extensions>=4.6.0 in c:\\users\\josé henrique\\appdata\\local\\programs\\python\\python313\\lib\\site-packages (from sqlalchemy) (4.12.2)\n",
      "Note: you may need to restart the kernel to use updated packages.\n"
     ]
    },
    {
     "name": "stderr",
     "output_type": "stream",
     "text": [
      "\n",
      "[notice] A new release of pip is available: 24.2 -> 25.0.1\n",
      "[notice] To update, run: python.exe -m pip install --upgrade pip\n"
     ]
    }
   ],
   "source": [
    "# Para processo de ETL\n",
    "import pandas as pd\n",
    "import numpy as np\n",
    "\n",
    "# Para tratamento de caracteres latinos, como \"Ã\" e \"Ç\"\n",
    "import unicodedata \n",
    "\n",
    "# Para conexão com banco de dados MYSQL\n",
    "%pip install sqlalchemy mysql-connector-python\n",
    "from sqlalchemy import create_engine\n",
    "import mysql.connector"
   ]
  },
  {
   "cell_type": "code",
   "execution_count": 34,
   "metadata": {},
   "outputs": [],
   "source": [
    "def remove_acentos(texto):\n",
    "    \"\"\"\n",
    "    Remove acentos e caracteres latinos de uma string.\n",
    "    \n",
    "    Parâmetro:\n",
    "        texto: str\n",
    "        - Texto que será analisado e em que os caracteres latinos serão substituídos.\n",
    "    \n",
    "    Retorna:\n",
    "        str\n",
    "        - Valor tratado com caracteres especiais substituídos.\n",
    "    \"\"\"\n",
    "    try:\n",
    "        texto = unicode(texto, 'utf-8')\n",
    "    except NameError:\n",
    "        pass\n",
    "    texto = unicodedata.normalize('NFD', texto)\n",
    "    texto = texto.encode('ascii', 'ignore').decode('utf-8')\n",
    "    return str(texto)"
   ]
  },
  {
   "cell_type": "markdown",
   "metadata": {},
   "source": [
    "## **2. Extract:** Leitura do conjunto de dados\n",
    "Em testes iniciais, houve erro ao abir o documento csv em função do encoder.\\\n",
    "Assim, faz-se necessário testar alguns encoders mais comuns com finalidade de carregar os dados de forma adequada."
   ]
  },
  {
   "cell_type": "code",
   "execution_count": 35,
   "metadata": {},
   "outputs": [
    {
     "name": "stdout",
     "output_type": "stream",
     "text": [
      "Erro ao tentar ler com codificação: utf-8\n",
      "Arquivo lido com codificação: ISO-8859-1\n",
      " -> DataFrame criado com sucesso!\n"
     ]
    }
   ],
   "source": [
    "# Lista de codificações comuns para teste\n",
    "codificacoes = ['utf-8', 'ISO-8859-1', 'latin1', 'cp1252'] \n",
    "\n",
    "for codificacao in codificacoes:\n",
    "    try:\n",
    "        df = pd.read_csv('gercon_solicitacoes_2024.csv', encoding=codificacao, sep = ';', low_memory=False)\n",
    "        print(f\"Arquivo lido com codificação: {codificacao}\")\n",
    "        break  # Sai do loop se a leitura for bem-sucedida\n",
    "    except UnicodeDecodeError:\n",
    "        print(f\"Erro ao tentar ler com codificação: {codificacao}\")\n",
    "    except Exception as e:\n",
    "        print(f\"Erro desconhecido: {e}\")\n",
    "\n",
    "# Confirmação da criação do DataFrame\n",
    "if 'df' in locals():\n",
    "    print(\" -> DataFrame criado com sucesso!\")\n",
    "else:\n",
    "    print(\"Nenhuma codificação funcionou. Tente outras codificações ou leia o arquivo em um editor de texto.\")"
   ]
  },
  {
   "cell_type": "code",
   "execution_count": 36,
   "metadata": {},
   "outputs": [
    {
     "data": {
      "text/html": [
       "<div>\n",
       "<style scoped>\n",
       "    .dataframe tbody tr th:only-of-type {\n",
       "        vertical-align: middle;\n",
       "    }\n",
       "\n",
       "    .dataframe tbody tr th {\n",
       "        vertical-align: top;\n",
       "    }\n",
       "\n",
       "    .dataframe thead th {\n",
       "        text-align: right;\n",
       "    }\n",
       "</style>\n",
       "<table border=\"1\" class=\"dataframe\">\n",
       "  <thead>\n",
       "    <tr style=\"text-align: right;\">\n",
       "      <th></th>\n",
       "      <th>data_extracao</th>\n",
       "      <th>idsolicitacao</th>\n",
       "      <th>situacaosolicitacao</th>\n",
       "      <th>data_solicitacao</th>\n",
       "      <th>corregulador</th>\n",
       "      <th>diasfilaespera</th>\n",
       "      <th>complexidade</th>\n",
       "      <th>especialidade</th>\n",
       "      <th>especialidademae</th>\n",
       "      <th>cid</th>\n",
       "      <th>...</th>\n",
       "      <th>cnesexecutante</th>\n",
       "      <th>unidadeexecutante</th>\n",
       "      <th>municipio_executante</th>\n",
       "      <th>statusregionalizacao</th>\n",
       "      <th>centralregulacao</th>\n",
       "      <th>centralregulacaoorigem</th>\n",
       "      <th>tipoconsulta</th>\n",
       "      <th>coordenadoriasolicitante</th>\n",
       "      <th>regiaosaudesolicitante</th>\n",
       "      <th>possuiunidadeindicada</th>\n",
       "    </tr>\n",
       "  </thead>\n",
       "  <tbody>\n",
       "    <tr>\n",
       "      <th>0</th>\n",
       "      <td>2025-01-07 00:00:00.000</td>\n",
       "      <td>5075360</td>\n",
       "      <td>REALIZADA</td>\n",
       "      <td>2024-01-05 00:00:00.000</td>\n",
       "      <td>LARANJA</td>\n",
       "      <td>12</td>\n",
       "      <td>MEDIA</td>\n",
       "      <td>OSTEOPATIA GERAL</td>\n",
       "      <td>OSTEOPATIA</td>\n",
       "      <td>M461</td>\n",
       "      <td>...</td>\n",
       "      <td>2237385.0</td>\n",
       "      <td>AMBULATORIO DE ESPECIALIDADES IAPI</td>\n",
       "      <td>PORTO ALEGRE</td>\n",
       "      <td>NaN</td>\n",
       "      <td>REGULACAO AMBULATORIAL</td>\n",
       "      <td>REGULACAO AMBULATORIAL</td>\n",
       "      <td>PRIMEIRA</td>\n",
       "      <td>1 CRS</td>\n",
       "      <td>REGIÃO DE SAÚDE 10</td>\n",
       "      <td>NÃO</td>\n",
       "    </tr>\n",
       "    <tr>\n",
       "      <th>1</th>\n",
       "      <td>2025-01-07 00:00:00.000</td>\n",
       "      <td>5372229</td>\n",
       "      <td>REALIZADA</td>\n",
       "      <td>2024-03-14 00:00:00.000</td>\n",
       "      <td>LARANJA</td>\n",
       "      <td>1</td>\n",
       "      <td>MEDIA</td>\n",
       "      <td>OSTEOPATIA GERAL</td>\n",
       "      <td>OSTEOPATIA</td>\n",
       "      <td>M797</td>\n",
       "      <td>...</td>\n",
       "      <td>2237385.0</td>\n",
       "      <td>AMBULATORIO DE ESPECIALIDADES IAPI</td>\n",
       "      <td>PORTO ALEGRE</td>\n",
       "      <td>NaN</td>\n",
       "      <td>REGULACAO AMBULATORIAL</td>\n",
       "      <td>REGULACAO AMBULATORIAL</td>\n",
       "      <td>PRIMEIRA</td>\n",
       "      <td>1 CRS</td>\n",
       "      <td>REGIÃO DE SAÚDE 10</td>\n",
       "      <td>NÃO</td>\n",
       "    </tr>\n",
       "  </tbody>\n",
       "</table>\n",
       "<p>2 rows × 29 columns</p>\n",
       "</div>"
      ],
      "text/plain": [
       "             data_extracao  idsolicitacao situacaosolicitacao  \\\n",
       "0  2025-01-07 00:00:00.000        5075360           REALIZADA   \n",
       "1  2025-01-07 00:00:00.000        5372229           REALIZADA   \n",
       "\n",
       "          data_solicitacao corregulador  diasfilaespera complexidade  \\\n",
       "0  2024-01-05 00:00:00.000      LARANJA              12        MEDIA   \n",
       "1  2024-03-14 00:00:00.000      LARANJA               1        MEDIA   \n",
       "\n",
       "      especialidade especialidademae   cid  ...  cnesexecutante  \\\n",
       "0  OSTEOPATIA GERAL       OSTEOPATIA  M461  ...       2237385.0   \n",
       "1  OSTEOPATIA GERAL       OSTEOPATIA  M797  ...       2237385.0   \n",
       "\n",
       "                    unidadeexecutante  municipio_executante  \\\n",
       "0  AMBULATORIO DE ESPECIALIDADES IAPI          PORTO ALEGRE   \n",
       "1  AMBULATORIO DE ESPECIALIDADES IAPI          PORTO ALEGRE   \n",
       "\n",
       "   statusregionalizacao        centralregulacao  centralregulacaoorigem  \\\n",
       "0                   NaN  REGULACAO AMBULATORIAL  REGULACAO AMBULATORIAL   \n",
       "1                   NaN  REGULACAO AMBULATORIAL  REGULACAO AMBULATORIAL   \n",
       "\n",
       "  tipoconsulta coordenadoriasolicitante regiaosaudesolicitante  \\\n",
       "0     PRIMEIRA                    1 CRS     REGIÃO DE SAÚDE 10   \n",
       "1     PRIMEIRA                    1 CRS     REGIÃO DE SAÚDE 10   \n",
       "\n",
       "   possuiunidadeindicada  \n",
       "0                    NÃO  \n",
       "1                    NÃO  \n",
       "\n",
       "[2 rows x 29 columns]"
      ]
     },
     "execution_count": 36,
     "metadata": {},
     "output_type": "execute_result"
    }
   ],
   "source": [
    "# Conferência e visão geral do conjunto de dados\n",
    "\n",
    "df.head(2)"
   ]
  },
  {
   "cell_type": "code",
   "execution_count": 37,
   "metadata": {},
   "outputs": [
    {
     "name": "stdout",
     "output_type": "stream",
     "text": [
      "<class 'pandas.core.frame.DataFrame'>\n",
      "RangeIndex: 1048575 entries, 0 to 1048574\n",
      "Data columns (total 29 columns):\n",
      " #   Column                    Non-Null Count    Dtype  \n",
      "---  ------                    --------------    -----  \n",
      " 0   data_extracao             1048575 non-null  object \n",
      " 1   idsolicitacao             1048575 non-null  int64  \n",
      " 2   situacaosolicitacao       1048575 non-null  object \n",
      " 3   data_solicitacao          1048575 non-null  object \n",
      " 4   corregulador              1048575 non-null  object \n",
      " 5   diasfilaespera            1048575 non-null  int64  \n",
      " 6   complexidade              1048575 non-null  object \n",
      " 7   especialidade             1048575 non-null  object \n",
      " 8   especialidademae          1048575 non-null  object \n",
      " 9   cid                       1048575 non-null  object \n",
      " 10  idpaciente                1048575 non-null  int64  \n",
      " 11  municipio_residencia      1048575 non-null  object \n",
      " 12  idade                     1048575 non-null  int64  \n",
      " 13  cnes_solicitante          1048575 non-null  int64  \n",
      " 14  unidadesolicitante        1048575 non-null  object \n",
      " 15  tipounidade               1048575 non-null  object \n",
      " 16  municipiosolicitante      1048575 non-null  object \n",
      " 17  situacaoagenda            576662 non-null   object \n",
      " 18  datahora_consulta         576662 non-null   object \n",
      " 19  cnesexecutante            576662 non-null   float64\n",
      " 20  unidadeexecutante         576662 non-null   object \n",
      " 21  municipio_executante      576662 non-null   object \n",
      " 22  statusregionalizacao      68343 non-null    object \n",
      " 23  centralregulacao          1048575 non-null  object \n",
      " 24  centralregulacaoorigem    1048575 non-null  object \n",
      " 25  tipoconsulta              576662 non-null   object \n",
      " 26  coordenadoriasolicitante  1048575 non-null  object \n",
      " 27  regiaosaudesolicitante    1048575 non-null  object \n",
      " 28  possuiunidadeindicada     1048575 non-null  object \n",
      "dtypes: float64(1), int64(5), object(23)\n",
      "memory usage: 232.0+ MB\n"
     ]
    }
   ],
   "source": [
    "df.info()"
   ]
  },
  {
   "cell_type": "markdown",
   "metadata": {},
   "source": [
    "Com os dados carregados com sucesso, aponta-se:\n",
    "- O número de linhas e colunas correspondem com o arquivo.\n",
    "- Há colunas que podem ser descartadas?\n",
    "- As colunas **data_extracao**, **data_solicitacao** e **datahora_consulta** necessitam de tratamento de tipagem, pois **são do tipo data**, mas estão sendo lidas como object.\n",
    "- Necessidade de estudar a presença de valores nulos."
   ]
  },
  {
   "cell_type": "markdown",
   "metadata": {},
   "source": [
    "## **3. Transform:** Adequação dos dados"
   ]
  },
  {
   "cell_type": "markdown",
   "metadata": {},
   "source": [
    "### **3.1. Limpeza**\n",
    "Visando diminuir a carga de dados, as colunas serão analisadas em prol de definir se alguma pode ser descartada."
   ]
  },
  {
   "cell_type": "code",
   "execution_count": 38,
   "metadata": {},
   "outputs": [
    {
     "data": {
      "text/plain": [
       "data_extracao                     1\n",
       "idsolicitacao               1048575\n",
       "situacaosolicitacao              16\n",
       "data_solicitacao                366\n",
       "corregulador                      6\n",
       "diasfilaespera                  373\n",
       "complexidade                      2\n",
       "especialidade                   276\n",
       "especialidademae                 66\n",
       "cid                            8450\n",
       "idpaciente                   827219\n",
       "municipio_residencia            613\n",
       "idade                           113\n",
       "cnes_solicitante               3214\n",
       "unidadesolicitante             3061\n",
       "tipounidade                      26\n",
       "municipiosolicitante            497\n",
       "situacaoagenda                    5\n",
       "datahora_consulta               379\n",
       "cnesexecutante                  444\n",
       "unidadeexecutante               417\n",
       "municipio_executante            167\n",
       "statusregionalizacao              3\n",
       "centralregulacao                 23\n",
       "centralregulacaoorigem           23\n",
       "tipoconsulta                      1\n",
       "coordenadoriasolicitante         18\n",
       "regiaosaudesolicitante           30\n",
       "possuiunidadeindicada             2\n",
       "dtype: int64"
      ]
     },
     "execution_count": 38,
     "metadata": {},
     "output_type": "execute_result"
    }
   ],
   "source": [
    "# Quantos valores únicos cada coluna apresenta?\n",
    "\n",
    "df.nunique()"
   ]
  },
  {
   "cell_type": "markdown",
   "metadata": {},
   "source": [
    "Ao analisar quantos valores únicos cada coluna apresenta, destaca-se:\n",
    "- **data_extracao**, **complexidade**, **tipoconsulta** e **possuiunidadeindicada** apresentam pouquíssima variedade de valores, portanto serão analisadas melhor.\n",
    "- **idsolicitacao** apresenta quantidade de valores únicos igual ao número de registros, o que pode ser utilizado como índice em consultas futuras, logo, vale mantê-la."
   ]
  },
  {
   "cell_type": "code",
   "execution_count": 39,
   "metadata": {},
   "outputs": [
    {
     "data": {
      "text/plain": [
       "data_extracao                 0\n",
       "complexidade                  0\n",
       "tipoconsulta             471913\n",
       "possuiunidadeindicada         0\n",
       "dtype: int64"
      ]
     },
     "execution_count": 39,
     "metadata": {},
     "output_type": "execute_result"
    }
   ],
   "source": [
    "# Presença de dados nulos nas colunas em destaque\n",
    "\n",
    "df[['data_extracao', 'complexidade', 'tipoconsulta', 'possuiunidadeindicada']].isnull().sum()"
   ]
  },
  {
   "cell_type": "code",
   "execution_count": 40,
   "metadata": {},
   "outputs": [
    {
     "name": "stdout",
     "output_type": "stream",
     "text": [
      "data_extracao:  ['2025-01-07 00:00:00.000']\n",
      "complexidade:  ['MEDIA' 'ALTA']\n",
      "tipoconsulta:  ['PRIMEIRA' nan]\n",
      "possuiunidadeindicada:  ['NÃO' 'SIM']\n"
     ]
    }
   ],
   "source": [
    "# Composição dos valores únicos de cada coluna\n",
    "\n",
    "for i in ['data_extracao', 'complexidade', 'tipoconsulta', 'possuiunidadeindicada']:\n",
    "    print(f'{i}: ', df[i].unique())"
   ]
  },
  {
   "cell_type": "markdown",
   "metadata": {},
   "source": [
    "Com essas análises, conclui-se:\n",
    "- **Descartar:** A coluna **data_extracao** apresenta valor idêntico para todos os registros, o que não auxilia em quaisquer estudos ou diferenciações como um ID.\n",
    "- As colunas **complexidade**, e **possuiunidadeindicada** apresentam poucos valores únicos, porém não apresentam valores nulos, portanto podem ser úteis em futuros estudos, logo serão mantidas.\n",
    "- A coluna **tipoconsulta** apresenta alta quantidade de valores nulos e apenas um valor único. Por hora será mantida, porém análises serão necessárias para compreender seus valores nulos. "
   ]
  },
  {
   "cell_type": "code",
   "execution_count": 41,
   "metadata": {},
   "outputs": [],
   "source": [
    "# Garantindo integridade dos dados originais\n",
    "df_original = df.copy()\n",
    "\n",
    "# Descartando a coluna data_extracao\n",
    "df.drop(columns = 'data_extracao', inplace = True)"
   ]
  },
  {
   "cell_type": "code",
   "execution_count": 42,
   "metadata": {},
   "outputs": [
    {
     "name": "stdout",
     "output_type": "stream",
     "text": [
      "<class 'pandas.core.frame.DataFrame'>\n",
      "RangeIndex: 1048575 entries, 0 to 1048574\n",
      "Data columns (total 28 columns):\n",
      " #   Column                    Non-Null Count    Dtype  \n",
      "---  ------                    --------------    -----  \n",
      " 0   idsolicitacao             1048575 non-null  int64  \n",
      " 1   situacaosolicitacao       1048575 non-null  object \n",
      " 2   data_solicitacao          1048575 non-null  object \n",
      " 3   corregulador              1048575 non-null  object \n",
      " 4   diasfilaespera            1048575 non-null  int64  \n",
      " 5   complexidade              1048575 non-null  object \n",
      " 6   especialidade             1048575 non-null  object \n",
      " 7   especialidademae          1048575 non-null  object \n",
      " 8   cid                       1048575 non-null  object \n",
      " 9   idpaciente                1048575 non-null  int64  \n",
      " 10  municipio_residencia      1048575 non-null  object \n",
      " 11  idade                     1048575 non-null  int64  \n",
      " 12  cnes_solicitante          1048575 non-null  int64  \n",
      " 13  unidadesolicitante        1048575 non-null  object \n",
      " 14  tipounidade               1048575 non-null  object \n",
      " 15  municipiosolicitante      1048575 non-null  object \n",
      " 16  situacaoagenda            576662 non-null   object \n",
      " 17  datahora_consulta         576662 non-null   object \n",
      " 18  cnesexecutante            576662 non-null   float64\n",
      " 19  unidadeexecutante         576662 non-null   object \n",
      " 20  municipio_executante      576662 non-null   object \n",
      " 21  statusregionalizacao      68343 non-null    object \n",
      " 22  centralregulacao          1048575 non-null  object \n",
      " 23  centralregulacaoorigem    1048575 non-null  object \n",
      " 24  tipoconsulta              576662 non-null   object \n",
      " 25  coordenadoriasolicitante  1048575 non-null  object \n",
      " 26  regiaosaudesolicitante    1048575 non-null  object \n",
      " 27  possuiunidadeindicada     1048575 non-null  object \n",
      "dtypes: float64(1), int64(5), object(22)\n",
      "memory usage: 224.0+ MB\n"
     ]
    }
   ],
   "source": [
    "# Confirmação da alteração\n",
    "\n",
    "df.info()"
   ]
  },
  {
   "cell_type": "markdown",
   "metadata": {},
   "source": [
    "### **3.2. Tipagem dos dados**\n",
    "Como visto anteriormente, as colunas referentes à datas necessitam revisão de suas tipagens."
   ]
  },
  {
   "cell_type": "code",
   "execution_count": 43,
   "metadata": {},
   "outputs": [
    {
     "name": "stdout",
     "output_type": "stream",
     "text": [
      "<class 'pandas.core.frame.DataFrame'>\n",
      "RangeIndex: 1048575 entries, 0 to 1048574\n",
      "Data columns (total 2 columns):\n",
      " #   Column             Non-Null Count    Dtype \n",
      "---  ------             --------------    ----- \n",
      " 0   data_solicitacao   1048575 non-null  object\n",
      " 1   datahora_consulta  576662 non-null   object\n",
      "dtypes: object(2)\n",
      "memory usage: 16.0+ MB\n"
     ]
    }
   ],
   "source": [
    "# Revisando tipagem das colunas de datas\n",
    "\n",
    "df[['data_solicitacao', 'datahora_consulta']].info()"
   ]
  },
  {
   "cell_type": "code",
   "execution_count": 44,
   "metadata": {},
   "outputs": [
    {
     "data": {
      "text/html": [
       "<div>\n",
       "<style scoped>\n",
       "    .dataframe tbody tr th:only-of-type {\n",
       "        vertical-align: middle;\n",
       "    }\n",
       "\n",
       "    .dataframe tbody tr th {\n",
       "        vertical-align: top;\n",
       "    }\n",
       "\n",
       "    .dataframe thead th {\n",
       "        text-align: right;\n",
       "    }\n",
       "</style>\n",
       "<table border=\"1\" class=\"dataframe\">\n",
       "  <thead>\n",
       "    <tr style=\"text-align: right;\">\n",
       "      <th></th>\n",
       "      <th>data_solicitacao</th>\n",
       "      <th>datahora_consulta</th>\n",
       "    </tr>\n",
       "  </thead>\n",
       "  <tbody>\n",
       "    <tr>\n",
       "      <th>0</th>\n",
       "      <td>2024-01-05 00:00:00.000</td>\n",
       "      <td>2024-01-31 00:00:00.000</td>\n",
       "    </tr>\n",
       "    <tr>\n",
       "      <th>1</th>\n",
       "      <td>2024-03-14 00:00:00.000</td>\n",
       "      <td>2024-03-19 00:00:00.000</td>\n",
       "    </tr>\n",
       "    <tr>\n",
       "      <th>2</th>\n",
       "      <td>2024-08-14 00:00:00.000</td>\n",
       "      <td>2024-08-27 00:00:00.000</td>\n",
       "    </tr>\n",
       "  </tbody>\n",
       "</table>\n",
       "</div>"
      ],
      "text/plain": [
       "          data_solicitacao        datahora_consulta\n",
       "0  2024-01-05 00:00:00.000  2024-01-31 00:00:00.000\n",
       "1  2024-03-14 00:00:00.000  2024-03-19 00:00:00.000\n",
       "2  2024-08-14 00:00:00.000  2024-08-27 00:00:00.000"
      ]
     },
     "execution_count": 44,
     "metadata": {},
     "output_type": "execute_result"
    }
   ],
   "source": [
    "# Verificação do formato\n",
    "\n",
    "df[['data_solicitacao', 'datahora_consulta']].head(3)"
   ]
  },
  {
   "cell_type": "code",
   "execution_count": 45,
   "metadata": {},
   "outputs": [
    {
     "name": "stdout",
     "output_type": "stream",
     "text": [
      "['00:00:00.000']\n",
      "['00:00:00.000' nan]\n"
     ]
    }
   ],
   "source": [
    "# As horas apresentadas nas datas aparentam ser iguais a zero\n",
    "# Verificação das horas nas datas\n",
    "\n",
    "df_solicitacao = df[['data_solicitacao']].copy()\n",
    "df_solicitacao['horas'] = df_solicitacao['data_solicitacao'].str[-12:]\n",
    "\n",
    "df_consulta = df[['datahora_consulta']].copy()\n",
    "df_consulta['horas'] = df_consulta['datahora_consulta'].str[-12:]\n",
    "\n",
    "print(df_solicitacao['horas'].unique())\n",
    "print(df_consulta['horas'].unique())"
   ]
  },
  {
   "cell_type": "code",
   "execution_count": 46,
   "metadata": {},
   "outputs": [
    {
     "data": {
      "text/html": [
       "<div>\n",
       "<style scoped>\n",
       "    .dataframe tbody tr th:only-of-type {\n",
       "        vertical-align: middle;\n",
       "    }\n",
       "\n",
       "    .dataframe tbody tr th {\n",
       "        vertical-align: top;\n",
       "    }\n",
       "\n",
       "    .dataframe thead th {\n",
       "        text-align: right;\n",
       "    }\n",
       "</style>\n",
       "<table border=\"1\" class=\"dataframe\">\n",
       "  <thead>\n",
       "    <tr style=\"text-align: right;\">\n",
       "      <th></th>\n",
       "      <th>datahora_consulta</th>\n",
       "      <th>horas</th>\n",
       "    </tr>\n",
       "  </thead>\n",
       "  <tbody>\n",
       "    <tr>\n",
       "      <th>0</th>\n",
       "      <td>2024-01-31 00:00:00.000</td>\n",
       "      <td>00:00:00.000</td>\n",
       "    </tr>\n",
       "    <tr>\n",
       "      <th>1</th>\n",
       "      <td>2024-03-19 00:00:00.000</td>\n",
       "      <td>00:00:00.000</td>\n",
       "    </tr>\n",
       "    <tr>\n",
       "      <th>2</th>\n",
       "      <td>2024-08-27 00:00:00.000</td>\n",
       "      <td>00:00:00.000</td>\n",
       "    </tr>\n",
       "    <tr>\n",
       "      <th>3</th>\n",
       "      <td>2024-10-08 00:00:00.000</td>\n",
       "      <td>00:00:00.000</td>\n",
       "    </tr>\n",
       "    <tr>\n",
       "      <th>4</th>\n",
       "      <td>2024-10-15 00:00:00.000</td>\n",
       "      <td>00:00:00.000</td>\n",
       "    </tr>\n",
       "    <tr>\n",
       "      <th>...</th>\n",
       "      <td>...</td>\n",
       "      <td>...</td>\n",
       "    </tr>\n",
       "    <tr>\n",
       "      <th>1048570</th>\n",
       "      <td>NaN</td>\n",
       "      <td>NaN</td>\n",
       "    </tr>\n",
       "    <tr>\n",
       "      <th>1048571</th>\n",
       "      <td>NaN</td>\n",
       "      <td>NaN</td>\n",
       "    </tr>\n",
       "    <tr>\n",
       "      <th>1048572</th>\n",
       "      <td>NaN</td>\n",
       "      <td>NaN</td>\n",
       "    </tr>\n",
       "    <tr>\n",
       "      <th>1048573</th>\n",
       "      <td>NaN</td>\n",
       "      <td>NaN</td>\n",
       "    </tr>\n",
       "    <tr>\n",
       "      <th>1048574</th>\n",
       "      <td>NaN</td>\n",
       "      <td>NaN</td>\n",
       "    </tr>\n",
       "  </tbody>\n",
       "</table>\n",
       "<p>1048575 rows × 2 columns</p>\n",
       "</div>"
      ],
      "text/plain": [
       "               datahora_consulta         horas\n",
       "0        2024-01-31 00:00:00.000  00:00:00.000\n",
       "1        2024-03-19 00:00:00.000  00:00:00.000\n",
       "2        2024-08-27 00:00:00.000  00:00:00.000\n",
       "3        2024-10-08 00:00:00.000  00:00:00.000\n",
       "4        2024-10-15 00:00:00.000  00:00:00.000\n",
       "...                          ...           ...\n",
       "1048570                      NaN           NaN\n",
       "1048571                      NaN           NaN\n",
       "1048572                      NaN           NaN\n",
       "1048573                      NaN           NaN\n",
       "1048574                      NaN           NaN\n",
       "\n",
       "[1048575 rows x 2 columns]"
      ]
     },
     "execution_count": 46,
     "metadata": {},
     "output_type": "execute_result"
    }
   ],
   "source": [
    "df_consulta"
   ]
  },
  {
   "cell_type": "code",
   "execution_count": 47,
   "metadata": {},
   "outputs": [
    {
     "data": {
      "text/plain": [
       "datahora_consulta    471913\n",
       "horas                471913\n",
       "dtype: int64"
      ]
     },
     "execution_count": 47,
     "metadata": {},
     "output_type": "execute_result"
    }
   ],
   "source": [
    "df_consulta.isnull().sum()"
   ]
  },
  {
   "cell_type": "markdown",
   "metadata": {},
   "source": [
    "Como pode-se ver, as horas em ambas as colunas são idênticas a zero, logo podem ser descartadas.\\\n",
    "A coluna **datahora_consulta** apresenta valores nulos, porém, como pode-se consultar no dicionário dos dados, há consultas sem agendamento confirmado, o que explica os nulos aqui."
   ]
  },
  {
   "cell_type": "code",
   "execution_count": 48,
   "metadata": {},
   "outputs": [],
   "source": [
    "# Adequando a tipagem no DataFrame trabalhado\n",
    "\n",
    "for i in ['data_solicitacao', 'datahora_consulta']:\n",
    "    df[i] = pd.to_datetime(df[i])"
   ]
  },
  {
   "cell_type": "code",
   "execution_count": 49,
   "metadata": {},
   "outputs": [
    {
     "name": "stdout",
     "output_type": "stream",
     "text": [
      "<class 'pandas.core.frame.DataFrame'>\n",
      "RangeIndex: 1048575 entries, 0 to 1048574\n",
      "Data columns (total 2 columns):\n",
      " #   Column             Non-Null Count    Dtype         \n",
      "---  ------             --------------    -----         \n",
      " 0   data_solicitacao   1048575 non-null  datetime64[ns]\n",
      " 1   datahora_consulta  576662 non-null   datetime64[ns]\n",
      "dtypes: datetime64[ns](2)\n",
      "memory usage: 16.0 MB\n"
     ]
    }
   ],
   "source": [
    "# Confirmação das alterações\n",
    "\n",
    "df[['data_solicitacao', 'datahora_consulta']].info()"
   ]
  },
  {
   "cell_type": "code",
   "execution_count": 50,
   "metadata": {},
   "outputs": [
    {
     "data": {
      "text/html": [
       "<div>\n",
       "<style scoped>\n",
       "    .dataframe tbody tr th:only-of-type {\n",
       "        vertical-align: middle;\n",
       "    }\n",
       "\n",
       "    .dataframe tbody tr th {\n",
       "        vertical-align: top;\n",
       "    }\n",
       "\n",
       "    .dataframe thead th {\n",
       "        text-align: right;\n",
       "    }\n",
       "</style>\n",
       "<table border=\"1\" class=\"dataframe\">\n",
       "  <thead>\n",
       "    <tr style=\"text-align: right;\">\n",
       "      <th></th>\n",
       "      <th>data_solicitacao</th>\n",
       "      <th>datahora_consulta</th>\n",
       "    </tr>\n",
       "  </thead>\n",
       "  <tbody>\n",
       "    <tr>\n",
       "      <th>0</th>\n",
       "      <td>2024-01-05</td>\n",
       "      <td>2024-01-31</td>\n",
       "    </tr>\n",
       "    <tr>\n",
       "      <th>1</th>\n",
       "      <td>2024-03-14</td>\n",
       "      <td>2024-03-19</td>\n",
       "    </tr>\n",
       "    <tr>\n",
       "      <th>2</th>\n",
       "      <td>2024-08-14</td>\n",
       "      <td>2024-08-27</td>\n",
       "    </tr>\n",
       "    <tr>\n",
       "      <th>3</th>\n",
       "      <td>2024-09-09</td>\n",
       "      <td>2024-10-08</td>\n",
       "    </tr>\n",
       "    <tr>\n",
       "      <th>4</th>\n",
       "      <td>2024-10-02</td>\n",
       "      <td>2024-10-15</td>\n",
       "    </tr>\n",
       "  </tbody>\n",
       "</table>\n",
       "</div>"
      ],
      "text/plain": [
       "  data_solicitacao datahora_consulta\n",
       "0       2024-01-05        2024-01-31\n",
       "1       2024-03-14        2024-03-19\n",
       "2       2024-08-14        2024-08-27\n",
       "3       2024-09-09        2024-10-08\n",
       "4       2024-10-02        2024-10-15"
      ]
     },
     "execution_count": 50,
     "metadata": {},
     "output_type": "execute_result"
    }
   ],
   "source": [
    "df[['data_solicitacao', 'datahora_consulta']].head(5)"
   ]
  },
  {
   "cell_type": "markdown",
   "metadata": {},
   "source": [
    "Além das colunas de data, as colunas relacionadas a códigos de identificação que estão com tipagem numérica podem ser adequadas para string, visto que podem interferir em análises numéricas."
   ]
  },
  {
   "cell_type": "code",
   "execution_count": 51,
   "metadata": {},
   "outputs": [],
   "source": [
    "# Adequação da tipagem\n",
    "\n",
    "for i in ['idsolicitacao', 'idpaciente', 'cnes_solicitante', 'cnesexecutante']:\n",
    "    df[i] = df[i].astype(str)"
   ]
  },
  {
   "cell_type": "code",
   "execution_count": 52,
   "metadata": {},
   "outputs": [
    {
     "name": "stdout",
     "output_type": "stream",
     "text": [
      "<class 'pandas.core.frame.DataFrame'>\n",
      "RangeIndex: 1048575 entries, 0 to 1048574\n",
      "Data columns (total 4 columns):\n",
      " #   Column            Non-Null Count    Dtype \n",
      "---  ------            --------------    ----- \n",
      " 0   idsolicitacao     1048575 non-null  object\n",
      " 1   idpaciente        1048575 non-null  object\n",
      " 2   cnes_solicitante  1048575 non-null  object\n",
      " 3   cnesexecutante    1048575 non-null  object\n",
      "dtypes: object(4)\n",
      "memory usage: 32.0+ MB\n"
     ]
    }
   ],
   "source": [
    "# Confirmação da mudança\n",
    "\n",
    "df[['idsolicitacao', 'idpaciente', 'cnes_solicitante', 'cnesexecutante']].info()"
   ]
  },
  {
   "cell_type": "markdown",
   "metadata": {},
   "source": [
    "Com essas etapas concluídas:\n",
    "- As tipagens estão adequadas aos dados.\n",
    "- As horas em cada coluna estão suprimidas pelo próprio python e assim podem ficar, como visto antes."
   ]
  },
  {
   "cell_type": "markdown",
   "metadata": {},
   "source": [
    "### **3.3. Caracteres especiais**\n",
    "Como visto no carregamento dos dados, o encoder usado é o XXX em função da presença de caracteres especiais como \"Ã\" e \"Ç\".\\\n",
    "Para garantir que os dados sejam lidos posteriormente em outros softwares, será feito o tratamento desses caracteres usando a biblioteca **unicode**."
   ]
  },
  {
   "cell_type": "code",
   "execution_count": 53,
   "metadata": {},
   "outputs": [
    {
     "data": {
      "text/html": [
       "<div>\n",
       "<style scoped>\n",
       "    .dataframe tbody tr th:only-of-type {\n",
       "        vertical-align: middle;\n",
       "    }\n",
       "\n",
       "    .dataframe tbody tr th {\n",
       "        vertical-align: top;\n",
       "    }\n",
       "\n",
       "    .dataframe thead th {\n",
       "        text-align: right;\n",
       "    }\n",
       "</style>\n",
       "<table border=\"1\" class=\"dataframe\">\n",
       "  <thead>\n",
       "    <tr style=\"text-align: right;\">\n",
       "      <th></th>\n",
       "      <th>regiaosaudesolicitante</th>\n",
       "    </tr>\n",
       "  </thead>\n",
       "  <tbody>\n",
       "    <tr>\n",
       "      <th>0</th>\n",
       "      <td>REGIÃO DE SAÚDE 10</td>\n",
       "    </tr>\n",
       "    <tr>\n",
       "      <th>1</th>\n",
       "      <td>REGIÃO DE SAÚDE 10</td>\n",
       "    </tr>\n",
       "  </tbody>\n",
       "</table>\n",
       "</div>"
      ],
      "text/plain": [
       "  regiaosaudesolicitante\n",
       "0     REGIÃO DE SAÚDE 10\n",
       "1     REGIÃO DE SAÚDE 10"
      ]
     },
     "execution_count": 53,
     "metadata": {},
     "output_type": "execute_result"
    }
   ],
   "source": [
    "# Exemplo de caracteres especiais no DataFrame\n",
    "\n",
    "df[['regiaosaudesolicitante']].head(2)"
   ]
  },
  {
   "cell_type": "code",
   "execution_count": 54,
   "metadata": {},
   "outputs": [],
   "source": [
    "# Substituição dos caracteres especias em colunas do tipo object\n",
    "\n",
    "for coluna in df.columns:\n",
    "    if df[coluna].dtype == \"object\":\n",
    "        df[coluna] = df[coluna].astype(str).apply(remove_acentos)"
   ]
  },
  {
   "cell_type": "code",
   "execution_count": 55,
   "metadata": {},
   "outputs": [
    {
     "data": {
      "text/html": [
       "<div>\n",
       "<style scoped>\n",
       "    .dataframe tbody tr th:only-of-type {\n",
       "        vertical-align: middle;\n",
       "    }\n",
       "\n",
       "    .dataframe tbody tr th {\n",
       "        vertical-align: top;\n",
       "    }\n",
       "\n",
       "    .dataframe thead th {\n",
       "        text-align: right;\n",
       "    }\n",
       "</style>\n",
       "<table border=\"1\" class=\"dataframe\">\n",
       "  <thead>\n",
       "    <tr style=\"text-align: right;\">\n",
       "      <th></th>\n",
       "      <th>regiaosaudesolicitante</th>\n",
       "    </tr>\n",
       "  </thead>\n",
       "  <tbody>\n",
       "    <tr>\n",
       "      <th>0</th>\n",
       "      <td>REGIAO DE SAUDE 10</td>\n",
       "    </tr>\n",
       "    <tr>\n",
       "      <th>1</th>\n",
       "      <td>REGIAO DE SAUDE 10</td>\n",
       "    </tr>\n",
       "  </tbody>\n",
       "</table>\n",
       "</div>"
      ],
      "text/plain": [
       "  regiaosaudesolicitante\n",
       "0     REGIAO DE SAUDE 10\n",
       "1     REGIAO DE SAUDE 10"
      ]
     },
     "execution_count": 55,
     "metadata": {},
     "output_type": "execute_result"
    }
   ],
   "source": [
    "# Amostra do tratamento dos caracteres especiais\n",
    "\n",
    "df[['regiaosaudesolicitante']].head(2)"
   ]
  },
  {
   "cell_type": "markdown",
   "metadata": {},
   "source": [
    "Com essas ações, quando pronto, o novo arquivo gerado após os tratamentos deve ser facilmente aberto em outros softwares."
   ]
  },
  {
   "cell_type": "markdown",
   "metadata": {},
   "source": [
    "### **3.4. Valores nulos**\n",
    "Como visto em etapas anteriores, há valores nulos em certas colunas.<br>\n",
    "Nessa seção, serão analisados tais valores com o objetivo de compreender se seguem um determinado padrão."
   ]
  },
  {
   "cell_type": "code",
   "execution_count": 56,
   "metadata": {},
   "outputs": [],
   "source": [
    "# Ajuste do DataFrame após a transformação dos caracteres especiais.\n",
    "# Durante o tratamento anterior, os valores nulos foram substituídos pela string 'nan', o que pode mascarar valores nulos.\n",
    "\n",
    "df.replace('nan', np.nan, inplace = True)"
   ]
  },
  {
   "cell_type": "code",
   "execution_count": 57,
   "metadata": {},
   "outputs": [
    {
     "data": {
      "text/plain": [
       "idsolicitacao                    0\n",
       "situacaosolicitacao              0\n",
       "data_solicitacao                 0\n",
       "corregulador                     0\n",
       "diasfilaespera                   0\n",
       "complexidade                     0\n",
       "especialidade                    0\n",
       "especialidademae                 0\n",
       "cid                              0\n",
       "idpaciente                       0\n",
       "municipio_residencia             0\n",
       "idade                            0\n",
       "cnes_solicitante                 0\n",
       "unidadesolicitante               0\n",
       "tipounidade                      0\n",
       "municipiosolicitante             0\n",
       "situacaoagenda              471913\n",
       "datahora_consulta           471913\n",
       "cnesexecutante              471913\n",
       "unidadeexecutante           471913\n",
       "municipio_executante        471913\n",
       "statusregionalizacao        980232\n",
       "centralregulacao                 0\n",
       "centralregulacaoorigem           0\n",
       "tipoconsulta                471913\n",
       "coordenadoriasolicitante         0\n",
       "regiaosaudesolicitante           0\n",
       "possuiunidadeindicada            0\n",
       "dtype: int64"
      ]
     },
     "execution_count": 57,
     "metadata": {},
     "output_type": "execute_result"
    }
   ],
   "source": [
    "# Verificação dos valores nulos\n",
    "\n",
    "df.isna().sum()"
   ]
  },
  {
   "cell_type": "markdown",
   "metadata": {},
   "source": [
    "Com os métodos isna() e sum(), verifica-se que:\n",
    "- As colunas **situacaoagenda** , **datahora_consulta**, **cnesexecutante**, **unidadeexecutante**,  **municipio_executante**, **tipoconsulta** com mesma quantia de valores nulos.\n",
    "- Já na coluna **statusregionalizacao**, aproximadamente 93.4% dos valores são nulos."
   ]
  },
  {
   "cell_type": "code",
   "execution_count": 58,
   "metadata": {},
   "outputs": [],
   "source": [
    "# Análise das colunas de mesmo comportamento\n",
    "# Construção de novo DataFrame para essa análise, garantindo integridade nos dados trabalhados.\n",
    "\n",
    "df_nulos = df[['situacaoagenda' , 'datahora_consulta', 'cnesexecutante', 'unidadeexecutante',  'municipio_executante', 'tipoconsulta']].copy()"
   ]
  },
  {
   "cell_type": "code",
   "execution_count": 59,
   "metadata": {},
   "outputs": [
    {
     "data": {
      "text/html": [
       "<div>\n",
       "<style scoped>\n",
       "    .dataframe tbody tr th:only-of-type {\n",
       "        vertical-align: middle;\n",
       "    }\n",
       "\n",
       "    .dataframe tbody tr th {\n",
       "        vertical-align: top;\n",
       "    }\n",
       "\n",
       "    .dataframe thead th {\n",
       "        text-align: right;\n",
       "    }\n",
       "</style>\n",
       "<table border=\"1\" class=\"dataframe\">\n",
       "  <thead>\n",
       "    <tr style=\"text-align: right;\">\n",
       "      <th></th>\n",
       "      <th>situacaoagenda</th>\n",
       "      <th>datahora_consulta</th>\n",
       "      <th>cnesexecutante</th>\n",
       "      <th>unidadeexecutante</th>\n",
       "      <th>municipio_executante</th>\n",
       "      <th>tipoconsulta</th>\n",
       "    </tr>\n",
       "  </thead>\n",
       "  <tbody>\n",
       "    <tr>\n",
       "      <th>0</th>\n",
       "      <td>REALIZADA</td>\n",
       "      <td>2024-01-31</td>\n",
       "      <td>2237385.0</td>\n",
       "      <td>AMBULATORIO DE ESPECIALIDADES IAPI</td>\n",
       "      <td>PORTO ALEGRE</td>\n",
       "      <td>PRIMEIRA</td>\n",
       "    </tr>\n",
       "    <tr>\n",
       "      <th>1</th>\n",
       "      <td>REALIZADA</td>\n",
       "      <td>2024-03-19</td>\n",
       "      <td>2237385.0</td>\n",
       "      <td>AMBULATORIO DE ESPECIALIDADES IAPI</td>\n",
       "      <td>PORTO ALEGRE</td>\n",
       "      <td>PRIMEIRA</td>\n",
       "    </tr>\n",
       "    <tr>\n",
       "      <th>2</th>\n",
       "      <td>REALIZADA</td>\n",
       "      <td>2024-08-27</td>\n",
       "      <td>2237571.0</td>\n",
       "      <td>HOSPITAL NOSSA SENHORA DA CONCEICAO SA</td>\n",
       "      <td>PORTO ALEGRE</td>\n",
       "      <td>PRIMEIRA</td>\n",
       "    </tr>\n",
       "    <tr>\n",
       "      <th>3</th>\n",
       "      <td>REALIZADA</td>\n",
       "      <td>2024-10-08</td>\n",
       "      <td>2237571.0</td>\n",
       "      <td>HOSPITAL NOSSA SENHORA DA CONCEICAO SA</td>\n",
       "      <td>PORTO ALEGRE</td>\n",
       "      <td>PRIMEIRA</td>\n",
       "    </tr>\n",
       "    <tr>\n",
       "      <th>4</th>\n",
       "      <td>REALIZADA</td>\n",
       "      <td>2024-10-15</td>\n",
       "      <td>2237571.0</td>\n",
       "      <td>HOSPITAL NOSSA SENHORA DA CONCEICAO SA</td>\n",
       "      <td>PORTO ALEGRE</td>\n",
       "      <td>PRIMEIRA</td>\n",
       "    </tr>\n",
       "    <tr>\n",
       "      <th>...</th>\n",
       "      <td>...</td>\n",
       "      <td>...</td>\n",
       "      <td>...</td>\n",
       "      <td>...</td>\n",
       "      <td>...</td>\n",
       "      <td>...</td>\n",
       "    </tr>\n",
       "    <tr>\n",
       "      <th>1048570</th>\n",
       "      <td>NaN</td>\n",
       "      <td>NaT</td>\n",
       "      <td>NaN</td>\n",
       "      <td>NaN</td>\n",
       "      <td>NaN</td>\n",
       "      <td>NaN</td>\n",
       "    </tr>\n",
       "    <tr>\n",
       "      <th>1048571</th>\n",
       "      <td>NaN</td>\n",
       "      <td>NaT</td>\n",
       "      <td>NaN</td>\n",
       "      <td>NaN</td>\n",
       "      <td>NaN</td>\n",
       "      <td>NaN</td>\n",
       "    </tr>\n",
       "    <tr>\n",
       "      <th>1048572</th>\n",
       "      <td>NaN</td>\n",
       "      <td>NaT</td>\n",
       "      <td>NaN</td>\n",
       "      <td>NaN</td>\n",
       "      <td>NaN</td>\n",
       "      <td>NaN</td>\n",
       "    </tr>\n",
       "    <tr>\n",
       "      <th>1048573</th>\n",
       "      <td>NaN</td>\n",
       "      <td>NaT</td>\n",
       "      <td>NaN</td>\n",
       "      <td>NaN</td>\n",
       "      <td>NaN</td>\n",
       "      <td>NaN</td>\n",
       "    </tr>\n",
       "    <tr>\n",
       "      <th>1048574</th>\n",
       "      <td>NaN</td>\n",
       "      <td>NaT</td>\n",
       "      <td>NaN</td>\n",
       "      <td>NaN</td>\n",
       "      <td>NaN</td>\n",
       "      <td>NaN</td>\n",
       "    </tr>\n",
       "  </tbody>\n",
       "</table>\n",
       "<p>1048575 rows × 6 columns</p>\n",
       "</div>"
      ],
      "text/plain": [
       "        situacaoagenda datahora_consulta cnesexecutante  \\\n",
       "0            REALIZADA        2024-01-31      2237385.0   \n",
       "1            REALIZADA        2024-03-19      2237385.0   \n",
       "2            REALIZADA        2024-08-27      2237571.0   \n",
       "3            REALIZADA        2024-10-08      2237571.0   \n",
       "4            REALIZADA        2024-10-15      2237571.0   \n",
       "...                ...               ...            ...   \n",
       "1048570            NaN               NaT            NaN   \n",
       "1048571            NaN               NaT            NaN   \n",
       "1048572            NaN               NaT            NaN   \n",
       "1048573            NaN               NaT            NaN   \n",
       "1048574            NaN               NaT            NaN   \n",
       "\n",
       "                              unidadeexecutante municipio_executante  \\\n",
       "0            AMBULATORIO DE ESPECIALIDADES IAPI         PORTO ALEGRE   \n",
       "1            AMBULATORIO DE ESPECIALIDADES IAPI         PORTO ALEGRE   \n",
       "2        HOSPITAL NOSSA SENHORA DA CONCEICAO SA         PORTO ALEGRE   \n",
       "3        HOSPITAL NOSSA SENHORA DA CONCEICAO SA         PORTO ALEGRE   \n",
       "4        HOSPITAL NOSSA SENHORA DA CONCEICAO SA         PORTO ALEGRE   \n",
       "...                                         ...                  ...   \n",
       "1048570                                     NaN                  NaN   \n",
       "1048571                                     NaN                  NaN   \n",
       "1048572                                     NaN                  NaN   \n",
       "1048573                                     NaN                  NaN   \n",
       "1048574                                     NaN                  NaN   \n",
       "\n",
       "        tipoconsulta  \n",
       "0           PRIMEIRA  \n",
       "1           PRIMEIRA  \n",
       "2           PRIMEIRA  \n",
       "3           PRIMEIRA  \n",
       "4           PRIMEIRA  \n",
       "...              ...  \n",
       "1048570          NaN  \n",
       "1048571          NaN  \n",
       "1048572          NaN  \n",
       "1048573          NaN  \n",
       "1048574          NaN  \n",
       "\n",
       "[1048575 rows x 6 columns]"
      ]
     },
     "execution_count": 59,
     "metadata": {},
     "output_type": "execute_result"
    }
   ],
   "source": [
    "df_nulos"
   ]
  },
  {
   "cell_type": "markdown",
   "metadata": {},
   "source": [
    "Observando o DataFrame **df_nulos**, há indícios que os dados são nulos ao mesmo tempo.<br>\n",
    "Assim, removendo as linhas em que todas as colunas são nulas ao mesmo tempo, restará algum valor nulo? "
   ]
  },
  {
   "cell_type": "code",
   "execution_count": 60,
   "metadata": {},
   "outputs": [],
   "source": [
    "# Selecionando as linhas em que todos os valores são nulos ao mesmo tempo\n",
    "mascara_todas_nan = df_nulos.isna().all(axis=1)\n",
    "\n",
    "# Removendo as linhas onde todas as colunas são NaN\n",
    "df_nulos_filtrado = df_nulos.drop(df_nulos[mascara_todas_nan].index)"
   ]
  },
  {
   "cell_type": "code",
   "execution_count": 61,
   "metadata": {},
   "outputs": [
    {
     "data": {
      "text/plain": [
       "(576662, 6)"
      ]
     },
     "execution_count": 61,
     "metadata": {},
     "output_type": "execute_result"
    }
   ],
   "source": [
    "# Conferindo a na estrutura do DataFrame\n",
    "\n",
    "df_nulos_filtrado.shape"
   ]
  },
  {
   "cell_type": "code",
   "execution_count": 62,
   "metadata": {},
   "outputs": [
    {
     "data": {
      "text/plain": [
       "situacaoagenda          0\n",
       "datahora_consulta       0\n",
       "cnesexecutante          0\n",
       "unidadeexecutante       0\n",
       "municipio_executante    0\n",
       "tipoconsulta            0\n",
       "dtype: int64"
      ]
     },
     "execution_count": 62,
     "metadata": {},
     "output_type": "execute_result"
    }
   ],
   "source": [
    "# Conferindo a quantidade de dados nulos restantes\n",
    "\n",
    "df_nulos_filtrado.isna().sum()"
   ]
  },
  {
   "cell_type": "markdown",
   "metadata": {},
   "source": [
    "Considerando que o filtro **mascara_todas_nan** seleciona apenas as linhas em que todas as colunas são nulas ao mesmo tempo e que, após a limpeza não restaram dados nulos, é cofiável afirmar que tais colunas apresentam padrão de comportamento.<br>\n",
    "Observado tal padrão, vale manter os registros, pois podem auxiliar em comparações futuras com as demais colunas.<br>\n",
    "Pela natureza dos dados, não há padrão em cada coluna que indique substituição adequadas dos nulos.\n",
    "\n",
    "Quanto a coluna **statusregionalizacao**, remover as linhas em que há valores nulos está fora de cogitação. \n",
    "\n",
    "Vale tratar com área de negócios:\n",
    "- Preencher os valores nulos com expressão padrão, por exemplo: 'Sem registro'.\n",
    "- Remoção da coluna **statusregionalizacao** devido pouca quantidade de dados preenchidos."
   ]
  },
  {
   "cell_type": "markdown",
   "metadata": {},
   "source": [
    "## **4. Load:** Carga dos dados transformados\n",
    "Nessa etapa, o DataFrame com os dados tratados será inserido em um banco de dados MYSQL."
   ]
  },
  {
   "cell_type": "code",
   "execution_count": 63,
   "metadata": {},
   "outputs": [],
   "source": [
    "# Dados de conexão\n",
    "usuario = 'root'\n",
    "senha = '332654'\n",
    "host = 'localhost'\n",
    "banco_de_dados = 'projeto_saudepoa'\n",
    "\n",
    "# Criando a string de conexão\n",
    "string_conexao = f'mysql+mysqlconnector://{usuario}:{senha}@{host}/{banco_de_dados}'\n",
    "\n",
    "# Criando a conexão\n",
    "engine = create_engine(string_conexao)"
   ]
  },
  {
   "cell_type": "code",
   "execution_count": 64,
   "metadata": {},
   "outputs": [
    {
     "data": {
      "text/plain": [
       "1048575"
      ]
     },
     "execution_count": 64,
     "metadata": {},
     "output_type": "execute_result"
    }
   ],
   "source": [
    "nome_tabela = 'tbl_solicitacoes_2024_tratada' # Nome dado à tabela no destino\n",
    "\n",
    "# Inserindo os dados no banco de dados\n",
    "df.to_sql(nome_tabela, con=engine, if_exists='replace', index=False, chunksize=1000)"
   ]
  },
  {
   "cell_type": "code",
   "execution_count": 65,
   "metadata": {},
   "outputs": [],
   "source": [
    "config = {\n",
    "    'user': 'root',\n",
    "    'password': '332654',\n",
    "    'host': 'localhost',\n",
    "    'database': 'projeto_saudepoa',\n",
    "    'raise_on_warnings': True\n",
    "}\n",
    "\n",
    "conexao = mysql.connector.connect(**config)\n",
    "\n",
    "cursor = conexao.cursor()\n",
    "cursor.execute(f\"ALTER TABLE {nome_tabela} ADD COLUMN id_registro INT AUTO_INCREMENT UNIQUE\")\n",
    "cursor.execute(f\"ALTER TABLE {nome_tabela} MODIFY COLUMN id_registro INT AUTO_INCREMENT PRIMARY KEY FIRST\")\n",
    "cursor.close()\n",
    "conexao.close()"
   ]
  },
  {
   "cell_type": "code",
   "execution_count": 66,
   "metadata": {},
   "outputs": [
    {
     "name": "stdout",
     "output_type": "stream",
     "text": [
      "<class 'pandas.core.frame.DataFrame'>\n",
      "RangeIndex: 1048575 entries, 0 to 1048574\n",
      "Data columns (total 29 columns):\n",
      " #   Column                    Non-Null Count    Dtype         \n",
      "---  ------                    --------------    -----         \n",
      " 0   id_registro               1048575 non-null  int64         \n",
      " 1   idsolicitacao             1048575 non-null  object        \n",
      " 2   situacaosolicitacao       1048575 non-null  object        \n",
      " 3   data_solicitacao          1048575 non-null  datetime64[ns]\n",
      " 4   corregulador              1048575 non-null  object        \n",
      " 5   diasfilaespera            1048575 non-null  int64         \n",
      " 6   complexidade              1048575 non-null  object        \n",
      " 7   especialidade             1048575 non-null  object        \n",
      " 8   especialidademae          1048575 non-null  object        \n",
      " 9   cid                       1048575 non-null  object        \n",
      " 10  idpaciente                1048575 non-null  object        \n",
      " 11  municipio_residencia      1048575 non-null  object        \n",
      " 12  idade                     1048575 non-null  int64         \n",
      " 13  cnes_solicitante          1048575 non-null  object        \n",
      " 14  unidadesolicitante        1048575 non-null  object        \n",
      " 15  tipounidade               1048575 non-null  object        \n",
      " 16  municipiosolicitante      1048575 non-null  object        \n",
      " 17  situacaoagenda            576662 non-null   object        \n",
      " 18  datahora_consulta         576662 non-null   datetime64[ns]\n",
      " 19  cnesexecutante            576662 non-null   object        \n",
      " 20  unidadeexecutante         576662 non-null   object        \n",
      " 21  municipio_executante      576662 non-null   object        \n",
      " 22  statusregionalizacao      68343 non-null    object        \n",
      " 23  centralregulacao          1048575 non-null  object        \n",
      " 24  centralregulacaoorigem    1048575 non-null  object        \n",
      " 25  tipoconsulta              576662 non-null   object        \n",
      " 26  coordenadoriasolicitante  1048575 non-null  object        \n",
      " 27  regiaosaudesolicitante    1048575 non-null  object        \n",
      " 28  possuiunidadeindicada     1048575 non-null  object        \n",
      "dtypes: datetime64[ns](2), int64(3), object(24)\n",
      "memory usage: 232.0+ MB\n"
     ]
    }
   ],
   "source": [
    "# Confirmando a inserção dos dados\n",
    "\n",
    "df_consulta = pd.read_sql(f'SELECT * FROM {nome_tabela}', con=engine)\n",
    "\n",
    "df_consulta.info()"
   ]
  },
  {
   "cell_type": "code",
   "execution_count": 67,
   "metadata": {},
   "outputs": [
    {
     "data": {
      "text/html": [
       "<div>\n",
       "<style scoped>\n",
       "    .dataframe tbody tr th:only-of-type {\n",
       "        vertical-align: middle;\n",
       "    }\n",
       "\n",
       "    .dataframe tbody tr th {\n",
       "        vertical-align: top;\n",
       "    }\n",
       "\n",
       "    .dataframe thead th {\n",
       "        text-align: right;\n",
       "    }\n",
       "</style>\n",
       "<table border=\"1\" class=\"dataframe\">\n",
       "  <thead>\n",
       "    <tr style=\"text-align: right;\">\n",
       "      <th></th>\n",
       "      <th>id_registro</th>\n",
       "      <th>idsolicitacao</th>\n",
       "      <th>situacaosolicitacao</th>\n",
       "      <th>data_solicitacao</th>\n",
       "      <th>corregulador</th>\n",
       "      <th>diasfilaespera</th>\n",
       "      <th>complexidade</th>\n",
       "      <th>especialidade</th>\n",
       "      <th>especialidademae</th>\n",
       "      <th>cid</th>\n",
       "      <th>...</th>\n",
       "      <th>cnesexecutante</th>\n",
       "      <th>unidadeexecutante</th>\n",
       "      <th>municipio_executante</th>\n",
       "      <th>statusregionalizacao</th>\n",
       "      <th>centralregulacao</th>\n",
       "      <th>centralregulacaoorigem</th>\n",
       "      <th>tipoconsulta</th>\n",
       "      <th>coordenadoriasolicitante</th>\n",
       "      <th>regiaosaudesolicitante</th>\n",
       "      <th>possuiunidadeindicada</th>\n",
       "    </tr>\n",
       "  </thead>\n",
       "  <tbody>\n",
       "    <tr>\n",
       "      <th>0</th>\n",
       "      <td>1</td>\n",
       "      <td>5492110</td>\n",
       "      <td>REALIZADA</td>\n",
       "      <td>2024-04-10</td>\n",
       "      <td>LARANJA</td>\n",
       "      <td>2</td>\n",
       "      <td>ALTA</td>\n",
       "      <td>ONCOLOGIA PEDIATRICA</td>\n",
       "      <td>ONCOLOGIA</td>\n",
       "      <td>D360</td>\n",
       "      <td>...</td>\n",
       "      <td>2237571.0</td>\n",
       "      <td>HOSPITAL NOSSA SENHORA DA CONCEICAO SA</td>\n",
       "      <td>PORTO ALEGRE</td>\n",
       "      <td>None</td>\n",
       "      <td>REGULACAO AMBULATORIAL</td>\n",
       "      <td>REGULACAO AMBULATORIAL</td>\n",
       "      <td>PRIMEIRA</td>\n",
       "      <td>13 CRS</td>\n",
       "      <td>REGIAO DE SAUDE 28</td>\n",
       "      <td>NAO</td>\n",
       "    </tr>\n",
       "    <tr>\n",
       "      <th>1</th>\n",
       "      <td>2</td>\n",
       "      <td>5071542</td>\n",
       "      <td>REALIZADA</td>\n",
       "      <td>2024-01-05</td>\n",
       "      <td>LARANJA</td>\n",
       "      <td>6</td>\n",
       "      <td>MEDIA</td>\n",
       "      <td>OFTALMOLOGIA GERAL ADULTO</td>\n",
       "      <td>OFTALMOLOGIA</td>\n",
       "      <td>H25</td>\n",
       "      <td>...</td>\n",
       "      <td>2259907.0</td>\n",
       "      <td>HOSPITAL SANTO ANGELO</td>\n",
       "      <td>SANTO ANGELO</td>\n",
       "      <td>None</td>\n",
       "      <td>REGULACAO REGIONAL 12CRS</td>\n",
       "      <td>REGULACAO REGIONAL 12CRS</td>\n",
       "      <td>PRIMEIRA</td>\n",
       "      <td>12 CRS</td>\n",
       "      <td>REGIAO DE SAUDE 11</td>\n",
       "      <td>SIM</td>\n",
       "    </tr>\n",
       "    <tr>\n",
       "      <th>2</th>\n",
       "      <td>3</td>\n",
       "      <td>6037225</td>\n",
       "      <td>REALIZADA</td>\n",
       "      <td>2024-08-21</td>\n",
       "      <td>AMARELO</td>\n",
       "      <td>22</td>\n",
       "      <td>MEDIA</td>\n",
       "      <td>CIRURGIA PLASTICA RECONSTRUCAO DE MAMA</td>\n",
       "      <td>CIRURGIA PLASTICA</td>\n",
       "      <td>C50</td>\n",
       "      <td>...</td>\n",
       "      <td>2265052.0</td>\n",
       "      <td>HOSPITAL FEMINA</td>\n",
       "      <td>PORTO ALEGRE</td>\n",
       "      <td>SEM_REGIONALIZACAO</td>\n",
       "      <td>CENTRAL DE REGULACAO AMBULATORIAL DO RIO GRAND...</td>\n",
       "      <td>CENTRAL DE REGULACAO AMBULATORIAL DO RIO GRAND...</td>\n",
       "      <td>PRIMEIRA</td>\n",
       "      <td>16 CRS</td>\n",
       "      <td>REGIAO DE SAUDE 29</td>\n",
       "      <td>NAO</td>\n",
       "    </tr>\n",
       "  </tbody>\n",
       "</table>\n",
       "<p>3 rows × 29 columns</p>\n",
       "</div>"
      ],
      "text/plain": [
       "   id_registro idsolicitacao situacaosolicitacao data_solicitacao  \\\n",
       "0            1       5492110           REALIZADA       2024-04-10   \n",
       "1            2       5071542           REALIZADA       2024-01-05   \n",
       "2            3       6037225           REALIZADA       2024-08-21   \n",
       "\n",
       "  corregulador  diasfilaespera complexidade  \\\n",
       "0      LARANJA               2         ALTA   \n",
       "1      LARANJA               6        MEDIA   \n",
       "2      AMARELO              22        MEDIA   \n",
       "\n",
       "                            especialidade   especialidademae   cid  ...  \\\n",
       "0                    ONCOLOGIA PEDIATRICA          ONCOLOGIA  D360  ...   \n",
       "1               OFTALMOLOGIA GERAL ADULTO       OFTALMOLOGIA   H25  ...   \n",
       "2  CIRURGIA PLASTICA RECONSTRUCAO DE MAMA  CIRURGIA PLASTICA   C50  ...   \n",
       "\n",
       "  cnesexecutante                       unidadeexecutante  \\\n",
       "0      2237571.0  HOSPITAL NOSSA SENHORA DA CONCEICAO SA   \n",
       "1      2259907.0                   HOSPITAL SANTO ANGELO   \n",
       "2      2265052.0                         HOSPITAL FEMINA   \n",
       "\n",
       "   municipio_executante statusregionalizacao  \\\n",
       "0          PORTO ALEGRE                 None   \n",
       "1          SANTO ANGELO                 None   \n",
       "2          PORTO ALEGRE   SEM_REGIONALIZACAO   \n",
       "\n",
       "                                    centralregulacao  \\\n",
       "0                             REGULACAO AMBULATORIAL   \n",
       "1                           REGULACAO REGIONAL 12CRS   \n",
       "2  CENTRAL DE REGULACAO AMBULATORIAL DO RIO GRAND...   \n",
       "\n",
       "                              centralregulacaoorigem tipoconsulta  \\\n",
       "0                             REGULACAO AMBULATORIAL     PRIMEIRA   \n",
       "1                           REGULACAO REGIONAL 12CRS     PRIMEIRA   \n",
       "2  CENTRAL DE REGULACAO AMBULATORIAL DO RIO GRAND...     PRIMEIRA   \n",
       "\n",
       "  coordenadoriasolicitante regiaosaudesolicitante possuiunidadeindicada  \n",
       "0                   13 CRS     REGIAO DE SAUDE 28                   NAO  \n",
       "1                   12 CRS     REGIAO DE SAUDE 11                   SIM  \n",
       "2                   16 CRS     REGIAO DE SAUDE 29                   NAO  \n",
       "\n",
       "[3 rows x 29 columns]"
      ]
     },
     "execution_count": 67,
     "metadata": {},
     "output_type": "execute_result"
    }
   ],
   "source": [
    "df_consulta.head(3)"
   ]
  },
  {
   "cell_type": "markdown",
   "metadata": {},
   "source": [
    "## **5. Conclusões**\n",
    "Sobre o objetivo da P1 do projeto:\n",
    "- Os dados originais foram lidos com o encoder correto, garantindo a integridade das informações.\n",
    "- As transformações realizadas adequaram os dados para carregamento em outros softwares de forma facilitada.\n",
    "- Os dados foram inseridos com sucesso em um banco de dados MYSQL, atingindo o objetivo proposto.\n",
    "<br>\n",
    "<br>\n",
    "\n",
    "Melhorias futuras:\n",
    "- Inserção de dados: O documento original precisa ser disponibilizado manualmente para o código.\n",
    "    - Automação com Web Scraping para busca automática dos arquivos no site.\n",
    "- Revisão: O tempo de execução desse notebook é de aproximadamente 3min.\n",
    "    - Refatoração do código, em especial na leitura inicial e na carga dos dados no MYSQL.\n",
    "- Maior automação: Nesse notebook, há momentos de estudo do Dataset e dos tratamentos sugeridos, assim como há momentos de execução das transformações.\n",
    "    - Construção de um script dedicado à execução das transformações para Datasets semelhantes.\n",
    "- Segurança: A senha para conexão com o banco de dados está exposta no notebook.\n",
    "    - Variável de ambiente para armazenar credenciais do banco de dados."
   ]
  }
 ],
 "metadata": {
  "kernelspec": {
   "display_name": "Python 3",
   "language": "python",
   "name": "python3"
  },
  "language_info": {
   "codemirror_mode": {
    "name": "ipython",
    "version": 3
   },
   "file_extension": ".py",
   "mimetype": "text/x-python",
   "name": "python",
   "nbconvert_exporter": "python",
   "pygments_lexer": "ipython3",
   "version": "3.13.0"
  }
 },
 "nbformat": 4,
 "nbformat_minor": 2
}
